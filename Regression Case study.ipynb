{
 "cells": [
  {
   "cell_type": "code",
   "execution_count": 1,
   "id": "33a46b88",
   "metadata": {},
   "outputs": [],
   "source": [
    "import pandas as pd\n",
    "import numpy as np\n",
    "import scipy as sp\n",
    "import matplotlib.pyplot as plt\n",
    "import seaborn as sns"
   ]
  },
  {
   "cell_type": "code",
   "execution_count": 54,
   "id": "93c4e612",
   "metadata": {},
   "outputs": [],
   "source": [
    "car_data=pd.read_csv(r'C:\\Users\\user\\Downloads\\car_age_price.csv')"
   ]
  },
  {
   "cell_type": "code",
   "execution_count": 55,
   "id": "64169b39",
   "metadata": {},
   "outputs": [
    {
     "data": {
      "text/html": [
       "<div>\n",
       "<style scoped>\n",
       "    .dataframe tbody tr th:only-of-type {\n",
       "        vertical-align: middle;\n",
       "    }\n",
       "\n",
       "    .dataframe tbody tr th {\n",
       "        vertical-align: top;\n",
       "    }\n",
       "\n",
       "    .dataframe thead th {\n",
       "        text-align: right;\n",
       "    }\n",
       "</style>\n",
       "<table border=\"1\" class=\"dataframe\">\n",
       "  <thead>\n",
       "    <tr style=\"text-align: right;\">\n",
       "      <th></th>\n",
       "      <th>Year</th>\n",
       "      <th>Price</th>\n",
       "    </tr>\n",
       "  </thead>\n",
       "  <tbody>\n",
       "    <tr>\n",
       "      <th>0</th>\n",
       "      <td>2018</td>\n",
       "      <td>465000</td>\n",
       "    </tr>\n",
       "    <tr>\n",
       "      <th>1</th>\n",
       "      <td>2019</td>\n",
       "      <td>755000</td>\n",
       "    </tr>\n",
       "    <tr>\n",
       "      <th>2</th>\n",
       "      <td>2019</td>\n",
       "      <td>700000</td>\n",
       "    </tr>\n",
       "    <tr>\n",
       "      <th>3</th>\n",
       "      <td>2018</td>\n",
       "      <td>465000</td>\n",
       "    </tr>\n",
       "    <tr>\n",
       "      <th>4</th>\n",
       "      <td>2018</td>\n",
       "      <td>465000</td>\n",
       "    </tr>\n",
       "  </tbody>\n",
       "</table>\n",
       "</div>"
      ],
      "text/plain": [
       "   Year   Price\n",
       "0  2018  465000\n",
       "1  2019  755000\n",
       "2  2019  700000\n",
       "3  2018  465000\n",
       "4  2018  465000"
      ]
     },
     "execution_count": 55,
     "metadata": {},
     "output_type": "execute_result"
    }
   ],
   "source": [
    "car_data.head()"
   ]
  },
  {
   "cell_type": "code",
   "execution_count": 56,
   "id": "9a4534af",
   "metadata": {},
   "outputs": [
    {
     "data": {
      "text/plain": [
       "Year     0\n",
       "Price    0\n",
       "dtype: int64"
      ]
     },
     "execution_count": 56,
     "metadata": {},
     "output_type": "execute_result"
    }
   ],
   "source": [
    "car_data.isnull().sum()"
   ]
  },
  {
   "cell_type": "code",
   "execution_count": 57,
   "id": "c5c61c22",
   "metadata": {},
   "outputs": [],
   "source": [
    "from sklearn.model_selection import train_test_split"
   ]
  },
  {
   "cell_type": "code",
   "execution_count": 58,
   "id": "21567487",
   "metadata": {},
   "outputs": [],
   "source": [
    "y=np.array(car_data['Price']).reshape(-1,1)\n",
    "x=np.array(car_data['Year']).reshape(-1,1)"
   ]
  },
  {
   "cell_type": "code",
   "execution_count": 59,
   "id": "92234ca0",
   "metadata": {},
   "outputs": [],
   "source": [
    "x_train,x_test,y_train,y_test=train_test_split(x,y,test_size=.2,random_state=42)"
   ]
  },
  {
   "cell_type": "markdown",
   "id": "745e3e1c",
   "metadata": {},
   "source": [
    "#### Linear Regression"
   ]
  },
  {
   "cell_type": "code",
   "execution_count": 60,
   "id": "f75f125a",
   "metadata": {},
   "outputs": [],
   "source": [
    "from sklearn.linear_model import LinearRegression"
   ]
  },
  {
   "cell_type": "code",
   "execution_count": 61,
   "id": "50bdca3e",
   "metadata": {},
   "outputs": [],
   "source": [
    "lin_reg=LinearRegression()"
   ]
  },
  {
   "cell_type": "code",
   "execution_count": 62,
   "id": "56e1ab03",
   "metadata": {},
   "outputs": [],
   "source": [
    "model1=lin_reg.fit(x_train,y_train)\n",
    "predictions=model1.predict(x_test)"
   ]
  },
  {
   "cell_type": "code",
   "execution_count": 63,
   "id": "e373940f",
   "metadata": {},
   "outputs": [
    {
     "data": {
      "text/plain": [
       "array([[525000],\n",
       "       [495000],\n",
       "       [465000],\n",
       "       [450000],\n",
       "       [550000],\n",
       "       [300000],\n",
       "       [550000],\n",
       "       [500000],\n",
       "       [500000],\n",
       "       [550000],\n",
       "       [320000],\n",
       "       [550000],\n",
       "       [465000],\n",
       "       [640000],\n",
       "       [465000],\n",
       "       [500000],\n",
       "       [345000],\n",
       "       [390000],\n",
       "       [375000],\n",
       "       [520000],\n",
       "       [550000],\n",
       "       [500000],\n",
       "       [550000]], dtype=int64)"
      ]
     },
     "execution_count": 63,
     "metadata": {},
     "output_type": "execute_result"
    }
   ],
   "source": [
    "y_test"
   ]
  },
  {
   "cell_type": "code",
   "execution_count": 64,
   "id": "2b5d3b7e",
   "metadata": {},
   "outputs": [
    {
     "data": {
      "text/plain": [
       "array([[600775.91252081],\n",
       "       [505558.77690466],\n",
       "       [553167.34471273],\n",
       "       [553167.34471273],\n",
       "       [553167.34471273],\n",
       "       [410341.6412885 ],\n",
       "       [505558.77690466],\n",
       "       [553167.34471273],\n",
       "       [600775.91252081],\n",
       "       [600775.91252081],\n",
       "       [315124.50567235],\n",
       "       [505558.77690466],\n",
       "       [410341.6412885 ],\n",
       "       [648384.48032889],\n",
       "       [553167.34471273],\n",
       "       [600775.91252081],\n",
       "       [315124.50567235],\n",
       "       [410341.6412885 ],\n",
       "       [505558.77690466],\n",
       "       [505558.77690466],\n",
       "       [505558.77690466],\n",
       "       [505558.77690466],\n",
       "       [505558.77690466]])"
      ]
     },
     "execution_count": 64,
     "metadata": {},
     "output_type": "execute_result"
    }
   ],
   "source": [
    "predictions"
   ]
  },
  {
   "cell_type": "markdown",
   "id": "8e7aa9e6",
   "metadata": {},
   "source": [
    "#### 2022 Prediction"
   ]
  },
  {
   "cell_type": "code",
   "execution_count": 65,
   "id": "7df7180e",
   "metadata": {},
   "outputs": [],
   "source": [
    "prediction_2022=model1.predict([[2022]])"
   ]
  },
  {
   "cell_type": "code",
   "execution_count": 67,
   "id": "cfb5eff2",
   "metadata": {},
   "outputs": [
    {
     "name": "stdout",
     "output_type": "stream",
     "text": [
      "[[743601.61594504]]\n"
     ]
    }
   ],
   "source": [
    "print(prediction_2022)"
   ]
  },
  {
   "cell_type": "code",
   "execution_count": 68,
   "id": "4a3cbcb1",
   "metadata": {},
   "outputs": [],
   "source": [
    "from sklearn.metrics import mean_squared_error,r2_score"
   ]
  },
  {
   "cell_type": "code",
   "execution_count": 69,
   "id": "34737a77",
   "metadata": {},
   "outputs": [
    {
     "name": "stdout",
     "output_type": "stream",
     "text": [
      "Mean Squared Error : 4326906256.829671\n",
      "R Squared Score : 0.36759313425902185\n"
     ]
    }
   ],
   "source": [
    "print('Mean Squared Error :',mean_squared_error(y_test,predictions))\n",
    "print('R Squared Score :',r2_score(y_test,predictions))"
   ]
  },
  {
   "cell_type": "markdown",
   "id": "70ce3557",
   "metadata": {},
   "source": [
    "#### Lasso Regression"
   ]
  },
  {
   "cell_type": "code",
   "execution_count": 70,
   "id": "36ecd7f1",
   "metadata": {},
   "outputs": [],
   "source": [
    "from sklearn.linear_model import Lasso"
   ]
  },
  {
   "cell_type": "code",
   "execution_count": 71,
   "id": "bd75afe0",
   "metadata": {},
   "outputs": [],
   "source": [
    "las_reg=Lasso()"
   ]
  },
  {
   "cell_type": "code",
   "execution_count": 72,
   "id": "f90a6998",
   "metadata": {},
   "outputs": [],
   "source": [
    "x_train,x_test,y_train,y_test=train_test_split(x,y,test_size=.2,random_state=42)"
   ]
  },
  {
   "cell_type": "code",
   "execution_count": 73,
   "id": "10635289",
   "metadata": {},
   "outputs": [],
   "source": [
    "model_las=las_reg.fit(x_train,y_train)\n",
    "prediction_las=model_las.predict(x_test)"
   ]
  },
  {
   "cell_type": "code",
   "execution_count": 74,
   "id": "79b66d03",
   "metadata": {},
   "outputs": [
    {
     "name": "stdout",
     "output_type": "stream",
     "text": [
      "Mean Squared Error : 4326859771.015669\n",
      "R Squared Score : 0.3675999284778446\n"
     ]
    }
   ],
   "source": [
    "print('Mean Squared Error :',mean_squared_error(y_test,prediction_las))\n",
    "print('R Squared Score :',r2_score(y_test,prediction_las))"
   ]
  },
  {
   "cell_type": "code",
   "execution_count": 75,
   "id": "b92f8c10",
   "metadata": {},
   "outputs": [],
   "source": [
    "prediction_las=model_las.predict([[2022]])"
   ]
  },
  {
   "cell_type": "code",
   "execution_count": 76,
   "id": "cb785d86",
   "metadata": {},
   "outputs": [
    {
     "name": "stdout",
     "output_type": "stream",
     "text": [
      "[743599.37427144]\n"
     ]
    }
   ],
   "source": [
    "print(prediction_las)"
   ]
  },
  {
   "cell_type": "code",
   "execution_count": 77,
   "id": "2faef146",
   "metadata": {},
   "outputs": [],
   "source": [
    "# Lasso Regression preformed better as it gave a higher R2 score and lower Mean squared score"
   ]
  },
  {
   "cell_type": "code",
   "execution_count": null,
   "id": "c6df3e07",
   "metadata": {},
   "outputs": [],
   "source": []
  }
 ],
 "metadata": {
  "kernelspec": {
   "display_name": "Python 3 (ipykernel)",
   "language": "python",
   "name": "python3"
  },
  "language_info": {
   "codemirror_mode": {
    "name": "ipython",
    "version": 3
   },
   "file_extension": ".py",
   "mimetype": "text/x-python",
   "name": "python",
   "nbconvert_exporter": "python",
   "pygments_lexer": "ipython3",
   "version": "3.9.12"
  }
 },
 "nbformat": 4,
 "nbformat_minor": 5
}
