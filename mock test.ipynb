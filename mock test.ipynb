{
 "cells": [
  {
   "cell_type": "code",
   "execution_count": 2,
   "id": "ba529849",
   "metadata": {},
   "outputs": [],
   "source": [
    "import pandas as pd\n",
    "import matplotlib.pyplot as plt\n",
    "import numpy as np\n",
    "import seaborn as sns"
   ]
  },
  {
   "cell_type": "code",
   "execution_count": 3,
   "id": "9b367417",
   "metadata": {},
   "outputs": [],
   "source": [
    "\n",
    "from sklearn.model_selection import train_test_split\n",
    "from sklearn.linear_model import LogisticRegression\n",
    "from sklearn.metrics import accuracy_score, classification_report, confusion_matrix"
   ]
  },
  {
   "cell_type": "code",
   "execution_count": 65,
   "id": "8dcc9eb2",
   "metadata": {},
   "outputs": [],
   "source": [
    "traindf=pd.read_csv(r'C:\\Users\\user\\Downloads\\dataset\\train.csv')\n",
    "testdf=pd.read_csv(r'C:\\Users\\user\\Downloads\\dataset\\train.csv')"
   ]
  },
  {
   "cell_type": "code",
   "execution_count": 66,
   "id": "306b5733",
   "metadata": {},
   "outputs": [
    {
     "data": {
      "text/html": [
       "<div>\n",
       "<style scoped>\n",
       "    .dataframe tbody tr th:only-of-type {\n",
       "        vertical-align: middle;\n",
       "    }\n",
       "\n",
       "    .dataframe tbody tr th {\n",
       "        vertical-align: top;\n",
       "    }\n",
       "\n",
       "    .dataframe thead th {\n",
       "        text-align: right;\n",
       "    }\n",
       "</style>\n",
       "<table border=\"1\" class=\"dataframe\">\n",
       "  <thead>\n",
       "    <tr style=\"text-align: right;\">\n",
       "      <th></th>\n",
       "      <th>ID</th>\n",
       "      <th>Place</th>\n",
       "      <th>location</th>\n",
       "      <th>date</th>\n",
       "      <th>status</th>\n",
       "      <th>job_title</th>\n",
       "      <th>summary</th>\n",
       "      <th>positives</th>\n",
       "      <th>negatives</th>\n",
       "      <th>advice_to_mgmt</th>\n",
       "      <th>score_1</th>\n",
       "      <th>score_2</th>\n",
       "      <th>score_3</th>\n",
       "      <th>score_4</th>\n",
       "      <th>score_5</th>\n",
       "      <th>score_6</th>\n",
       "      <th>overall</th>\n",
       "    </tr>\n",
       "  </thead>\n",
       "  <tbody>\n",
       "    <tr>\n",
       "      <th>0</th>\n",
       "      <td>25355</td>\n",
       "      <td>startup_4</td>\n",
       "      <td>Iaşi (Romania)</td>\n",
       "      <td>Dec 9, 2018</td>\n",
       "      <td>Current Employee</td>\n",
       "      <td>SDE1</td>\n",
       "      <td>SDE overview</td>\n",
       "      <td>Great impact. Professional people. Chance to s...</td>\n",
       "      <td>You should be on-call according to a team rota...</td>\n",
       "      <td>None.</td>\n",
       "      <td>3.0</td>\n",
       "      <td>5.0</td>\n",
       "      <td>4.0</td>\n",
       "      <td>5.0</td>\n",
       "      <td>4.0</td>\n",
       "      <td>0</td>\n",
       "      <td>3.0</td>\n",
       "    </tr>\n",
       "    <tr>\n",
       "      <th>1</th>\n",
       "      <td>66963</td>\n",
       "      <td>startup_6</td>\n",
       "      <td>NaN</td>\n",
       "      <td>May 21, 2012</td>\n",
       "      <td>Current Employee</td>\n",
       "      <td>Sales Director</td>\n",
       "      <td>Experience over 17 years has been very mixed -...</td>\n",
       "      <td>one of the best reasons to work at Microsoft i...</td>\n",
       "      <td>Microsoft has become a highly political org wi...</td>\n",
       "      <td>Take a deep, hard look at the advertising org....</td>\n",
       "      <td>3.5</td>\n",
       "      <td>NaN</td>\n",
       "      <td>3.5</td>\n",
       "      <td>4.0</td>\n",
       "      <td>1.0</td>\n",
       "      <td>4</td>\n",
       "      <td>3.0</td>\n",
       "    </tr>\n",
       "    <tr>\n",
       "      <th>2</th>\n",
       "      <td>50981</td>\n",
       "      <td>startup_6</td>\n",
       "      <td>NaN</td>\n",
       "      <td>Oct 12, 2017</td>\n",
       "      <td>Current Employee</td>\n",
       "      <td>Anonymous Employee</td>\n",
       "      <td>Lots of shiny surface, little depth</td>\n",
       "      <td>Benefits and salary are relatively competitive</td>\n",
       "      <td>Microsoft is getting in its own way of success...</td>\n",
       "      <td>Need to deliver beyond the empty words that cu...</td>\n",
       "      <td>2.0</td>\n",
       "      <td>1.0</td>\n",
       "      <td>3.0</td>\n",
       "      <td>4.0</td>\n",
       "      <td>1.0</td>\n",
       "      <td>0</td>\n",
       "      <td>3.0</td>\n",
       "    </tr>\n",
       "    <tr>\n",
       "      <th>3</th>\n",
       "      <td>65337</td>\n",
       "      <td>startup_6</td>\n",
       "      <td>Vancouver, BC (Canada)</td>\n",
       "      <td>May 7, 2015</td>\n",
       "      <td>Former Employee</td>\n",
       "      <td>Finance Intern</td>\n",
       "      <td>MAP Intern</td>\n",
       "      <td>the MAP program at Microsoft is one of the bes...</td>\n",
       "      <td>No cons to report whatsoever</td>\n",
       "      <td>keep doing what you're doing</td>\n",
       "      <td>4.0</td>\n",
       "      <td>4.0</td>\n",
       "      <td>5.0</td>\n",
       "      <td>4.0</td>\n",
       "      <td>4.0</td>\n",
       "      <td>0</td>\n",
       "      <td>3.0</td>\n",
       "    </tr>\n",
       "    <tr>\n",
       "      <th>4</th>\n",
       "      <td>38342</td>\n",
       "      <td>startup_2</td>\n",
       "      <td>New York, NY</td>\n",
       "      <td>Oct 9, 2017</td>\n",
       "      <td>Current Employee</td>\n",
       "      <td>Senior Software Engineer</td>\n",
       "      <td>Dear Apple</td>\n",
       "      <td>Supportive environment, and great food.</td>\n",
       "      <td>Lack of proximity to some low-end restaurants.</td>\n",
       "      <td>Keep it up!</td>\n",
       "      <td>5.0</td>\n",
       "      <td>5.0</td>\n",
       "      <td>5.0</td>\n",
       "      <td>5.0</td>\n",
       "      <td>5.0</td>\n",
       "      <td>0</td>\n",
       "      <td>3.0</td>\n",
       "    </tr>\n",
       "  </tbody>\n",
       "</table>\n",
       "</div>"
      ],
      "text/plain": [
       "      ID      Place                location           date             status  \\\n",
       "0  25355  startup_4          Iaşi (Romania)    Dec 9, 2018  Current Employee    \n",
       "1  66963  startup_6                     NaN   May 21, 2012  Current Employee    \n",
       "2  50981  startup_6                     NaN   Oct 12, 2017  Current Employee    \n",
       "3  65337  startup_6  Vancouver, BC (Canada)    May 7, 2015   Former Employee    \n",
       "4  38342  startup_2            New York, NY    Oct 9, 2017  Current Employee    \n",
       "\n",
       "                   job_title  \\\n",
       "0                       SDE1   \n",
       "1             Sales Director   \n",
       "2         Anonymous Employee   \n",
       "3             Finance Intern   \n",
       "4   Senior Software Engineer   \n",
       "\n",
       "                                             summary  \\\n",
       "0                                       SDE overview   \n",
       "1  Experience over 17 years has been very mixed -...   \n",
       "2                Lots of shiny surface, little depth   \n",
       "3                                         MAP Intern   \n",
       "4                                         Dear Apple   \n",
       "\n",
       "                                           positives  \\\n",
       "0  Great impact. Professional people. Chance to s...   \n",
       "1  one of the best reasons to work at Microsoft i...   \n",
       "2     Benefits and salary are relatively competitive   \n",
       "3  the MAP program at Microsoft is one of the bes...   \n",
       "4            Supportive environment, and great food.   \n",
       "\n",
       "                                           negatives  \\\n",
       "0  You should be on-call according to a team rota...   \n",
       "1  Microsoft has become a highly political org wi...   \n",
       "2  Microsoft is getting in its own way of success...   \n",
       "3                       No cons to report whatsoever   \n",
       "4     Lack of proximity to some low-end restaurants.   \n",
       "\n",
       "                                      advice_to_mgmt  score_1  score_2  \\\n",
       "0                                              None.      3.0      5.0   \n",
       "1  Take a deep, hard look at the advertising org....      3.5      NaN   \n",
       "2  Need to deliver beyond the empty words that cu...      2.0      1.0   \n",
       "3                       keep doing what you're doing      4.0      4.0   \n",
       "4                                        Keep it up!      5.0      5.0   \n",
       "\n",
       "   score_3  score_4  score_5  score_6  overall  \n",
       "0      4.0      5.0      4.0        0      3.0  \n",
       "1      3.5      4.0      1.0        4      3.0  \n",
       "2      3.0      4.0      1.0        0      3.0  \n",
       "3      5.0      4.0      4.0        0      3.0  \n",
       "4      5.0      5.0      5.0        0      3.0  "
      ]
     },
     "execution_count": 66,
     "metadata": {},
     "output_type": "execute_result"
    }
   ],
   "source": [
    "traindf.head()"
   ]
  },
  {
   "cell_type": "code",
   "execution_count": 67,
   "id": "5e4c4015",
   "metadata": {},
   "outputs": [
    {
     "data": {
      "text/plain": [
       "ID                    0\n",
       "Place                 0\n",
       "location           8932\n",
       "date                  0\n",
       "status                0\n",
       "job_title             0\n",
       "summary              36\n",
       "positives             0\n",
       "negatives             0\n",
       "advice_to_mgmt    10642\n",
       "score_1            2557\n",
       "score_2            4885\n",
       "score_3            2546\n",
       "score_4            2559\n",
       "score_5            2801\n",
       "score_6               0\n",
       "overall               0\n",
       "dtype: int64"
      ]
     },
     "execution_count": 67,
     "metadata": {},
     "output_type": "execute_result"
    }
   ],
   "source": [
    "traindf.isna().sum()"
   ]
  },
  {
   "cell_type": "code",
   "execution_count": 68,
   "id": "c52325fc",
   "metadata": {},
   "outputs": [],
   "source": [
    "traindf['location']=traindf['location'].fillna(traindf['location'].mode()[0])"
   ]
  },
  {
   "cell_type": "code",
   "execution_count": 69,
   "id": "30ab1a18",
   "metadata": {},
   "outputs": [
    {
     "data": {
      "text/plain": [
       "ID                    0\n",
       "Place                 0\n",
       "location              0\n",
       "date                  0\n",
       "status                0\n",
       "job_title             0\n",
       "summary              36\n",
       "positives             0\n",
       "negatives             0\n",
       "advice_to_mgmt    10642\n",
       "score_1            2557\n",
       "score_2            4885\n",
       "score_3            2546\n",
       "score_4            2559\n",
       "score_5            2801\n",
       "score_6               0\n",
       "overall               0\n",
       "dtype: int64"
      ]
     },
     "execution_count": 69,
     "metadata": {},
     "output_type": "execute_result"
    }
   ],
   "source": [
    "traindf.isna().sum()"
   ]
  },
  {
   "cell_type": "code",
   "execution_count": 70,
   "id": "be7b2ce5",
   "metadata": {},
   "outputs": [],
   "source": [
    "traindf.dropna(subset=['summary'],inplace=True)\n",
    "testdf.dropna(subset=['summary'],inplace=True)"
   ]
  },
  {
   "cell_type": "code",
   "execution_count": 71,
   "id": "77f15dfc",
   "metadata": {},
   "outputs": [
    {
     "data": {
      "text/plain": [
       "ID                    0\n",
       "Place                 0\n",
       "location              0\n",
       "date                  0\n",
       "status                0\n",
       "job_title             0\n",
       "summary               0\n",
       "positives             0\n",
       "negatives             0\n",
       "advice_to_mgmt    10626\n",
       "score_1            2551\n",
       "score_2            4869\n",
       "score_3            2540\n",
       "score_4            2553\n",
       "score_5            2795\n",
       "score_6               0\n",
       "overall               0\n",
       "dtype: int64"
      ]
     },
     "execution_count": 71,
     "metadata": {},
     "output_type": "execute_result"
    }
   ],
   "source": [
    "traindf.isna().sum()"
   ]
  },
  {
   "cell_type": "code",
   "execution_count": 72,
   "id": "a085cc44",
   "metadata": {},
   "outputs": [],
   "source": [
    "traindf1=traindf.drop(['advice_to_mgmt'],axis=1)"
   ]
  },
  {
   "cell_type": "code",
   "execution_count": 73,
   "id": "a1740cc8",
   "metadata": {},
   "outputs": [
    {
     "data": {
      "text/plain": [
       "<AxesSubplot:>"
      ]
     },
     "execution_count": 73,
     "metadata": {},
     "output_type": "execute_result"
    },
    {
     "data": {
      "image/png": "[encoded data removed]",
      "text/plain": [
       "<Figure size 1080x432 with 1 Axes>"
      ]
     },
     "metadata": {
      "needs_background": "light"
     },
     "output_type": "display_data"
    }
   ],
   "source": [
    "traindf.boxplot(column=['score_1','score_2','score_3','score_4','score_5'],figsize=(15,6))"
   ]
  },
  {
   "cell_type": "code",
   "execution_count": 74,
   "id": "dccd6cba",
   "metadata": {},
   "outputs": [],
   "source": [
    "traindf['score_1']=traindf['score_1'].fillna(traindf['score_1'].mean())"
   ]
  },
  {
   "cell_type": "code",
   "execution_count": 75,
   "id": "4245b1b6",
   "metadata": {},
   "outputs": [],
   "source": [
    "traindf['score_2']=traindf['score_2'].fillna(traindf['score_2'].mean())\n",
    "traindf['score_3']=traindf['score_3'].fillna(traindf['score_3'].mean())\n",
    "traindf['score_4']=traindf['score_4'].fillna(traindf['score_4'].mean())\n",
    "traindf['score_5']=traindf['score_5'].fillna(traindf['score_5'].mean())"
   ]
  },
  {
   "cell_type": "code",
   "execution_count": 76,
   "id": "194c1e22",
   "metadata": {},
   "outputs": [],
   "source": [
    "testdf['score_1']=testdf['score_1'].fillna(testdf['score_1'].mean())\n",
    "testdf['score_2']=testdf['score_2'].fillna(testdf['score_2'].mean())\n",
    "testdf['score_3']=testdf['score_3'].fillna(testdf['score_3'].mean())\n",
    "testdf['score_4']=testdf['score_4'].fillna(testdf['score_4'].mean())\n",
    "testdf['score_5']=testdf['score_5'].fillna(testdf['score_5'].mean())\n"
   ]
  },
  {
   "cell_type": "code",
   "execution_count": 77,
   "id": "f826025c",
   "metadata": {},
   "outputs": [
    {
     "data": {
      "text/plain": [
       "ID                    0\n",
       "Place                 0\n",
       "location              0\n",
       "date                  0\n",
       "status                0\n",
       "job_title             0\n",
       "summary               0\n",
       "positives             0\n",
       "negatives             0\n",
       "advice_to_mgmt    10626\n",
       "score_1               0\n",
       "score_2               0\n",
       "score_3               0\n",
       "score_4               0\n",
       "score_5               0\n",
       "score_6               0\n",
       "overall               0\n",
       "dtype: int64"
      ]
     },
     "execution_count": 77,
     "metadata": {},
     "output_type": "execute_result"
    }
   ],
   "source": [
    "traindf.isna().sum()"
   ]
  },
  {
   "cell_type": "code",
   "execution_count": 78,
   "id": "7e2a93b5",
   "metadata": {},
   "outputs": [],
   "source": [
    "traindf=traindf.drop(['advice_to_mgmt'],axis=1)\n",
    "tetsdf=testdf.drop(['advice_to_mgmt'],axis=1)"
   ]
  },
  {
   "cell_type": "code",
   "execution_count": 79,
   "id": "f15458ff",
   "metadata": {},
   "outputs": [],
   "source": [
    "traindf=traindf.drop(['summary','positives','negatives'],axis=1)\n",
    "testdf=testdf.drop(['summary','positives','negatives'],axis=1)"
   ]
  },
  {
   "cell_type": "code",
   "execution_count": 80,
   "id": "529364f4",
   "metadata": {},
   "outputs": [
    {
     "name": "stdout",
     "output_type": "stream",
     "text": [
      "<class 'pandas.core.frame.DataFrame'>\n",
      "Int64Index: 24232 entries, 0 to 24267\n",
      "Data columns (total 13 columns):\n",
      " #   Column     Non-Null Count  Dtype  \n",
      "---  ------     --------------  -----  \n",
      " 0   ID         24232 non-null  int64  \n",
      " 1   Place      24232 non-null  object \n",
      " 2   location   24232 non-null  object \n",
      " 3   date       24232 non-null  object \n",
      " 4   status     24232 non-null  object \n",
      " 5   job_title  24232 non-null  object \n",
      " 6   score_1    24232 non-null  float64\n",
      " 7   score_2    24232 non-null  float64\n",
      " 8   score_3    24232 non-null  float64\n",
      " 9   score_4    24232 non-null  float64\n",
      " 10  score_5    24232 non-null  float64\n",
      " 11  score_6    24232 non-null  int64  \n",
      " 12  overall    24232 non-null  float64\n",
      "dtypes: float64(6), int64(2), object(5)\n",
      "memory usage: 2.6+ MB\n"
     ]
    }
   ],
   "source": [
    "traindf.info()"
   ]
  },
  {
   "cell_type": "code",
   "execution_count": 81,
   "id": "c14a3fa3",
   "metadata": {},
   "outputs": [],
   "source": [
    "traindf=traindf.drop(['ID','date'],axis=1)\n",
    "testdf=testdf.drop(['date'],axis=1)\n",
    "testid=testdf['ID']"
   ]
  },
  {
   "cell_type": "code",
   "execution_count": 82,
   "id": "4a3c258d",
   "metadata": {},
   "outputs": [],
   "source": [
    "testdf=testdf.drop(['ID'],axis=1)"
   ]
  },
  {
   "cell_type": "code",
   "execution_count": 83,
   "id": "bba90c52",
   "metadata": {},
   "outputs": [
    {
     "name": "stdout",
     "output_type": "stream",
     "text": [
      "<class 'pandas.core.frame.DataFrame'>\n",
      "Int64Index: 24232 entries, 0 to 24267\n",
      "Data columns (total 11 columns):\n",
      " #   Column     Non-Null Count  Dtype  \n",
      "---  ------     --------------  -----  \n",
      " 0   Place      24232 non-null  object \n",
      " 1   location   24232 non-null  object \n",
      " 2   status     24232 non-null  object \n",
      " 3   job_title  24232 non-null  object \n",
      " 4   score_1    24232 non-null  float64\n",
      " 5   score_2    24232 non-null  float64\n",
      " 6   score_3    24232 non-null  float64\n",
      " 7   score_4    24232 non-null  float64\n",
      " 8   score_5    24232 non-null  float64\n",
      " 9   score_6    24232 non-null  int64  \n",
      " 10  overall    24232 non-null  float64\n",
      "dtypes: float64(6), int64(1), object(4)\n",
      "memory usage: 2.2+ MB\n"
     ]
    }
   ],
   "source": [
    "traindf.info()"
   ]
  },
  {
   "cell_type": "code",
   "execution_count": 84,
   "id": "bcab628b",
   "metadata": {},
   "outputs": [],
   "source": [
    "from sklearn.preprocessing import LabelEncoder\n",
    "lab_enc=LabelEncoder()\n",
    "traindf['location']=lab_enc.fit_transform(traindf['location'])\n",
    "traindf['Place']=lab_enc.fit_transform(traindf['Place'])\n",
    "traindf['status']=lab_enc.fit_transform(traindf['status'])\n",
    "traindf['job_title']=lab_enc.fit_transform(traindf['job_title'])\n",
    "\n",
    "\n"
   ]
  },
  {
   "cell_type": "code",
   "execution_count": 85,
   "id": "a653ff05",
   "metadata": {},
   "outputs": [
    {
     "data": {
      "text/plain": [
       "<AxesSubplot:>"
      ]
     },
     "execution_count": 85,
     "metadata": {},
     "output_type": "execute_result"
    },
    {
     "data": {
      "image/png": "[encoded data removed]",
      "text/plain": [
       "<Figure size 1296x576 with 2 Axes>"
      ]
     },
     "metadata": {
      "needs_background": "light"
     },
     "output_type": "display_data"
    }
   ],
   "source": [
    "corr_matrix=traindf.corr()\n",
    "plt.subplots(figsize=(18,8))\n",
    "sns.heatmap(corr_matrix,annot=True,cmap='winter')"
   ]
  },
  {
   "cell_type": "code",
   "execution_count": 86,
   "id": "9fab5c87",
   "metadata": {},
   "outputs": [],
   "source": [
    "traindf=traindf.drop(['Place','location','status','job_title'],axis=1)"
   ]
  },
  {
   "cell_type": "code",
   "execution_count": 87,
   "id": "acd748db",
   "metadata": {},
   "outputs": [],
   "source": [
    "testdf=testdf.drop(['Place','location','status','job_title'],axis=1)"
   ]
  },
  {
   "cell_type": "code",
   "execution_count": 88,
   "id": "1f43782e",
   "metadata": {},
   "outputs": [],
   "source": [
    "traindf=traindf.drop(['score_6'],axis=1)\n",
    "testdf=testdf.drop(['score_6'],axis=1)"
   ]
  },
  {
   "cell_type": "code",
   "execution_count": 89,
   "id": "49c160e7",
   "metadata": {},
   "outputs": [
    {
     "data": {
      "text/plain": [
       "<AxesSubplot:>"
      ]
     },
     "execution_count": 89,
     "metadata": {},
     "output_type": "execute_result"
    },
    {
     "data": {
      "image/png": "[encoded data removed]",
      "text/plain": [
       "<Figure size 1296x576 with 2 Axes>"
      ]
     },
     "metadata": {
      "needs_background": "light"
     },
     "output_type": "display_data"
    }
   ],
   "source": [
    "corr_matrix=traindf.corr()\n",
    "plt.subplots(figsize=(18,8))\n",
    "sns.heatmap(corr_matrix,annot=True,cmap='winter')"
   ]
  },
  {
   "cell_type": "code",
   "execution_count": 90,
   "id": "8248f64e",
   "metadata": {},
   "outputs": [],
   "source": [
    "X=traindf.drop(['overall'],axis=1)\n",
    "y=traindf['overall']\n"
   ]
  },
  {
   "cell_type": "code",
   "execution_count": 91,
   "id": "8246f20c",
   "metadata": {},
   "outputs": [],
   "source": [
    "X_train,X_test,y_train,y_test=train_test_split(X,y,random_state=42,test_size=.5)"
   ]
  },
  {
   "cell_type": "code",
   "execution_count": 92,
   "id": "f0492b6f",
   "metadata": {},
   "outputs": [
    {
     "name": "stderr",
     "output_type": "stream",
     "text": [
      "C:\\Users\\user\\anaconda3\\lib\\site-packages\\sklearn\\linear_model\\_logistic.py:814: ConvergenceWarning: lbfgs failed to converge (status=1):\n",
      "STOP: TOTAL NO. of ITERATIONS REACHED LIMIT.\n",
      "\n",
      "Increase the number of iterations (max_iter) or scale the data as shown in:\n",
      "    https://scikit-learn.org/stable/modules/preprocessing.html\n",
      "Please also refer to the documentation for alternative solver options:\n",
      "    https://scikit-learn.org/stable/modules/linear_model.html#logistic-regression\n",
      "  n_iter_i = _check_optimize_result(\n"
     ]
    }
   ],
   "source": [
    "lr_model=LogisticRegression().fit(X_train,y_train)\n",
    "y_pred_log=lr_model.predict(X_test)"
   ]
  },
  {
   "cell_type": "code",
   "execution_count": 93,
   "id": "f5f821e1",
   "metadata": {},
   "outputs": [],
   "source": [
    "from sklearn.metrics import accuracy_score,confusion_matrix,precision_score,recall_score,f1_score"
   ]
  },
  {
   "cell_type": "code",
   "execution_count": 94,
   "id": "e89f475f",
   "metadata": {},
   "outputs": [
    {
     "data": {
      "text/plain": [
       "0.40582700561241336"
      ]
     },
     "execution_count": 94,
     "metadata": {},
     "output_type": "execute_result"
    }
   ],
   "source": [
    "f1_score(y_test,y_pred_log,average='micro')"
   ]
  },
  {
   "cell_type": "code",
   "execution_count": 97,
   "id": "023e25c1",
   "metadata": {},
   "outputs": [
    {
     "data": {
      "text/html": [
       "<div>\n",
       "<style scoped>\n",
       "    .dataframe tbody tr th:only-of-type {\n",
       "        vertical-align: middle;\n",
       "    }\n",
       "\n",
       "    .dataframe tbody tr th {\n",
       "        vertical-align: top;\n",
       "    }\n",
       "\n",
       "    .dataframe thead th {\n",
       "        text-align: right;\n",
       "    }\n",
       "</style>\n",
       "<table border=\"1\" class=\"dataframe\">\n",
       "  <thead>\n",
       "    <tr style=\"text-align: right;\">\n",
       "      <th></th>\n",
       "      <th>advice_to_mgmt</th>\n",
       "      <th>score_1</th>\n",
       "      <th>score_2</th>\n",
       "      <th>score_3</th>\n",
       "      <th>score_4</th>\n",
       "      <th>score_5</th>\n",
       "      <th>overall</th>\n",
       "    </tr>\n",
       "  </thead>\n",
       "  <tbody>\n",
       "    <tr>\n",
       "      <th>0</th>\n",
       "      <td>None.</td>\n",
       "      <td>3.0</td>\n",
       "      <td>5.000000</td>\n",
       "      <td>4.0</td>\n",
       "      <td>5.0</td>\n",
       "      <td>4.0</td>\n",
       "      <td>3.0</td>\n",
       "    </tr>\n",
       "    <tr>\n",
       "      <th>1</th>\n",
       "      <td>Take a deep, hard look at the advertising org....</td>\n",
       "      <td>3.5</td>\n",
       "      <td>3.782265</td>\n",
       "      <td>3.5</td>\n",
       "      <td>4.0</td>\n",
       "      <td>1.0</td>\n",
       "      <td>3.0</td>\n",
       "    </tr>\n",
       "    <tr>\n",
       "      <th>2</th>\n",
       "      <td>Need to deliver beyond the empty words that cu...</td>\n",
       "      <td>2.0</td>\n",
       "      <td>1.000000</td>\n",
       "      <td>3.0</td>\n",
       "      <td>4.0</td>\n",
       "      <td>1.0</td>\n",
       "      <td>3.0</td>\n",
       "    </tr>\n",
       "    <tr>\n",
       "      <th>3</th>\n",
       "      <td>keep doing what you're doing</td>\n",
       "      <td>4.0</td>\n",
       "      <td>4.000000</td>\n",
       "      <td>5.0</td>\n",
       "      <td>4.0</td>\n",
       "      <td>4.0</td>\n",
       "      <td>3.0</td>\n",
       "    </tr>\n",
       "    <tr>\n",
       "      <th>4</th>\n",
       "      <td>Keep it up!</td>\n",
       "      <td>5.0</td>\n",
       "      <td>5.000000</td>\n",
       "      <td>5.0</td>\n",
       "      <td>5.0</td>\n",
       "      <td>5.0</td>\n",
       "      <td>3.0</td>\n",
       "    </tr>\n",
       "    <tr>\n",
       "      <th>...</th>\n",
       "      <td>...</td>\n",
       "      <td>...</td>\n",
       "      <td>...</td>\n",
       "      <td>...</td>\n",
       "      <td>...</td>\n",
       "      <td>...</td>\n",
       "      <td>...</td>\n",
       "    </tr>\n",
       "    <tr>\n",
       "      <th>24263</th>\n",
       "      <td>Try to avoid some of the thrashing that is typ...</td>\n",
       "      <td>3.5</td>\n",
       "      <td>3.782265</td>\n",
       "      <td>5.0</td>\n",
       "      <td>3.0</td>\n",
       "      <td>5.0</td>\n",
       "      <td>5.0</td>\n",
       "    </tr>\n",
       "    <tr>\n",
       "      <th>24264</th>\n",
       "      <td>Could use some “human” in the HR field.</td>\n",
       "      <td>1.0</td>\n",
       "      <td>5.000000</td>\n",
       "      <td>4.0</td>\n",
       "      <td>5.0</td>\n",
       "      <td>3.0</td>\n",
       "      <td>2.0</td>\n",
       "    </tr>\n",
       "    <tr>\n",
       "      <th>24265</th>\n",
       "      <td>Make the job descriptions more descriptive for...</td>\n",
       "      <td>1.0</td>\n",
       "      <td>5.000000</td>\n",
       "      <td>3.0</td>\n",
       "      <td>5.0</td>\n",
       "      <td>5.0</td>\n",
       "      <td>3.0</td>\n",
       "    </tr>\n",
       "    <tr>\n",
       "      <th>24266</th>\n",
       "      <td>NaN</td>\n",
       "      <td>5.0</td>\n",
       "      <td>5.000000</td>\n",
       "      <td>4.0</td>\n",
       "      <td>5.0</td>\n",
       "      <td>4.0</td>\n",
       "      <td>4.0</td>\n",
       "    </tr>\n",
       "    <tr>\n",
       "      <th>24267</th>\n",
       "      <td>NaN</td>\n",
       "      <td>5.0</td>\n",
       "      <td>5.000000</td>\n",
       "      <td>5.0</td>\n",
       "      <td>5.0</td>\n",
       "      <td>5.0</td>\n",
       "      <td>5.0</td>\n",
       "    </tr>\n",
       "  </tbody>\n",
       "</table>\n",
       "<p>24232 rows × 7 columns</p>\n",
       "</div>"
      ],
      "text/plain": [
       "                                          advice_to_mgmt  score_1   score_2  \\\n",
       "0                                                  None.      3.0  5.000000   \n",
       "1      Take a deep, hard look at the advertising org....      3.5  3.782265   \n",
       "2      Need to deliver beyond the empty words that cu...      2.0  1.000000   \n",
       "3                           keep doing what you're doing      4.0  4.000000   \n",
       "4                                            Keep it up!      5.0  5.000000   \n",
       "...                                                  ...      ...       ...   \n",
       "24263  Try to avoid some of the thrashing that is typ...      3.5  3.782265   \n",
       "24264            Could use some “human” in the HR field.      1.0  5.000000   \n",
       "24265  Make the job descriptions more descriptive for...      1.0  5.000000   \n",
       "24266                                                NaN      5.0  5.000000   \n",
       "24267                                                NaN      5.0  5.000000   \n",
       "\n",
       "       score_3  score_4  score_5  overall  \n",
       "0          4.0      5.0      4.0      3.0  \n",
       "1          3.5      4.0      1.0      3.0  \n",
       "2          3.0      4.0      1.0      3.0  \n",
       "3          5.0      4.0      4.0      3.0  \n",
       "4          5.0      5.0      5.0      3.0  \n",
       "...        ...      ...      ...      ...  \n",
       "24263      5.0      3.0      5.0      5.0  \n",
       "24264      4.0      5.0      3.0      2.0  \n",
       "24265      3.0      5.0      5.0      3.0  \n",
       "24266      4.0      5.0      4.0      4.0  \n",
       "24267      5.0      5.0      5.0      5.0  \n",
       "\n",
       "[24232 rows x 7 columns]"
      ]
     },
     "execution_count": 97,
     "metadata": {},
     "output_type": "execute_result"
    }
   ],
   "source": [
    "testdf"
   ]
  },
  {
   "cell_type": "code",
   "execution_count": 98,
   "id": "42d18901",
   "metadata": {},
   "outputs": [],
   "source": [
    "testdf=testdf.drop(['advice_to_mgmt'],axis=1)"
   ]
  },
  {
   "cell_type": "code",
   "execution_count": 100,
   "id": "bba48961",
   "metadata": {},
   "outputs": [],
   "source": [
    "X1=testdf.drop(['overall'],axis=1)\n",
    "y1=testdf['overall']"
   ]
  },
  {
   "cell_type": "code",
   "execution_count": 101,
   "id": "264ebfaa",
   "metadata": {},
   "outputs": [],
   "source": [
    "predicted_value = lr_model.predict(X1)"
   ]
  },
  {
   "cell_type": "code",
   "execution_count": 103,
   "id": "f70e1ae6",
   "metadata": {},
   "outputs": [
    {
     "data": {
      "text/html": [
       "<div>\n",
       "<style scoped>\n",
       "    .dataframe tbody tr th:only-of-type {\n",
       "        vertical-align: middle;\n",
       "    }\n",
       "\n",
       "    .dataframe tbody tr th {\n",
       "        vertical-align: top;\n",
       "    }\n",
       "\n",
       "    .dataframe thead th {\n",
       "        text-align: right;\n",
       "    }\n",
       "</style>\n",
       "<table border=\"1\" class=\"dataframe\">\n",
       "  <thead>\n",
       "    <tr style=\"text-align: right;\">\n",
       "      <th></th>\n",
       "      <th>score_1</th>\n",
       "      <th>score_2</th>\n",
       "      <th>score_3</th>\n",
       "      <th>score_4</th>\n",
       "      <th>score_5</th>\n",
       "      <th>overall</th>\n",
       "      <th>Predict-overall</th>\n",
       "    </tr>\n",
       "  </thead>\n",
       "  <tbody>\n",
       "    <tr>\n",
       "      <th>0</th>\n",
       "      <td>3.0</td>\n",
       "      <td>5.000000</td>\n",
       "      <td>4.0</td>\n",
       "      <td>5.0</td>\n",
       "      <td>4.0</td>\n",
       "      <td>4.0</td>\n",
       "      <td>4.0</td>\n",
       "    </tr>\n",
       "    <tr>\n",
       "      <th>1</th>\n",
       "      <td>3.5</td>\n",
       "      <td>3.782265</td>\n",
       "      <td>3.5</td>\n",
       "      <td>4.0</td>\n",
       "      <td>1.0</td>\n",
       "      <td>3.0</td>\n",
       "      <td>3.0</td>\n",
       "    </tr>\n",
       "    <tr>\n",
       "      <th>2</th>\n",
       "      <td>2.0</td>\n",
       "      <td>1.000000</td>\n",
       "      <td>3.0</td>\n",
       "      <td>4.0</td>\n",
       "      <td>1.0</td>\n",
       "      <td>3.0</td>\n",
       "      <td>3.0</td>\n",
       "    </tr>\n",
       "    <tr>\n",
       "      <th>3</th>\n",
       "      <td>4.0</td>\n",
       "      <td>4.000000</td>\n",
       "      <td>5.0</td>\n",
       "      <td>4.0</td>\n",
       "      <td>4.0</td>\n",
       "      <td>4.0</td>\n",
       "      <td>4.0</td>\n",
       "    </tr>\n",
       "    <tr>\n",
       "      <th>4</th>\n",
       "      <td>5.0</td>\n",
       "      <td>5.000000</td>\n",
       "      <td>5.0</td>\n",
       "      <td>5.0</td>\n",
       "      <td>5.0</td>\n",
       "      <td>5.0</td>\n",
       "      <td>5.0</td>\n",
       "    </tr>\n",
       "  </tbody>\n",
       "</table>\n",
       "</div>"
      ],
      "text/plain": [
       "   score_1   score_2  score_3  score_4  score_5  overall  Predict-overall\n",
       "0      3.0  5.000000      4.0      5.0      4.0      4.0              4.0\n",
       "1      3.5  3.782265      3.5      4.0      1.0      3.0              3.0\n",
       "2      2.0  1.000000      3.0      4.0      1.0      3.0              3.0\n",
       "3      4.0  4.000000      5.0      4.0      4.0      4.0              4.0\n",
       "4      5.0  5.000000      5.0      5.0      5.0      5.0              5.0"
      ]
     },
     "execution_count": 103,
     "metadata": {},
     "output_type": "execute_result"
    }
   ],
   "source": [
    "final_prediction_df = pd.DataFrame()\n",
    "final_prediction_df = testdf\n",
    "final_prediction_df[\"overall\"] = predicted_value\n",
    "final_prediction_df.to_csv(\"Final overall Prediction.csv\", index=False)\n",
    "final_prediction_df.head()"
   ]
  },
  {
   "cell_type": "code",
   "execution_count": 105,
   "id": "380a4b01",
   "metadata": {},
   "outputs": [
    {
     "data": {
      "text/html": [
       "<div>\n",
       "<style scoped>\n",
       "    .dataframe tbody tr th:only-of-type {\n",
       "        vertical-align: middle;\n",
       "    }\n",
       "\n",
       "    .dataframe tbody tr th {\n",
       "        vertical-align: top;\n",
       "    }\n",
       "\n",
       "    .dataframe thead th {\n",
       "        text-align: right;\n",
       "    }\n",
       "</style>\n",
       "<table border=\"1\" class=\"dataframe\">\n",
       "  <thead>\n",
       "    <tr style=\"text-align: right;\">\n",
       "      <th></th>\n",
       "      <th>overall</th>\n",
       "    </tr>\n",
       "  </thead>\n",
       "  <tbody>\n",
       "    <tr>\n",
       "      <th>0</th>\n",
       "      <td>4.0</td>\n",
       "    </tr>\n",
       "    <tr>\n",
       "      <th>1</th>\n",
       "      <td>3.0</td>\n",
       "    </tr>\n",
       "    <tr>\n",
       "      <th>2</th>\n",
       "      <td>3.0</td>\n",
       "    </tr>\n",
       "    <tr>\n",
       "      <th>3</th>\n",
       "      <td>4.0</td>\n",
       "    </tr>\n",
       "    <tr>\n",
       "      <th>4</th>\n",
       "      <td>5.0</td>\n",
       "    </tr>\n",
       "    <tr>\n",
       "      <th>...</th>\n",
       "      <td>...</td>\n",
       "    </tr>\n",
       "    <tr>\n",
       "      <th>24263</th>\n",
       "      <td>4.0</td>\n",
       "    </tr>\n",
       "    <tr>\n",
       "      <th>24264</th>\n",
       "      <td>3.0</td>\n",
       "    </tr>\n",
       "    <tr>\n",
       "      <th>24265</th>\n",
       "      <td>3.0</td>\n",
       "    </tr>\n",
       "    <tr>\n",
       "      <th>24266</th>\n",
       "      <td>4.0</td>\n",
       "    </tr>\n",
       "    <tr>\n",
       "      <th>24267</th>\n",
       "      <td>5.0</td>\n",
       "    </tr>\n",
       "  </tbody>\n",
       "</table>\n",
       "<p>24232 rows × 1 columns</p>\n",
       "</div>"
      ],
      "text/plain": [
       "       overall\n",
       "0          4.0\n",
       "1          3.0\n",
       "2          3.0\n",
       "3          4.0\n",
       "4          5.0\n",
       "...        ...\n",
       "24263      4.0\n",
       "24264      3.0\n",
       "24265      3.0\n",
       "24266      4.0\n",
       "24267      5.0\n",
       "\n",
       "[24232 rows x 1 columns]"
      ]
     },
     "execution_count": 105,
     "metadata": {},
     "output_type": "execute_result"
    }
   ],
   "source": [
    "final_prediction_df=final_prediction_df.drop(['score_1','score_2','score_3','score_4','score_5','Predict-overall'],axis=1)\n",
    "final_prediction_df"
   ]
  },
  {
   "cell_type": "code",
   "execution_count": 106,
   "id": "448ec29a",
   "metadata": {},
   "outputs": [
    {
     "data": {
      "text/html": [
       "<div>\n",
       "<style scoped>\n",
       "    .dataframe tbody tr th:only-of-type {\n",
       "        vertical-align: middle;\n",
       "    }\n",
       "\n",
       "    .dataframe tbody tr th {\n",
       "        vertical-align: top;\n",
       "    }\n",
       "\n",
       "    .dataframe thead th {\n",
       "        text-align: right;\n",
       "    }\n",
       "</style>\n",
       "<table border=\"1\" class=\"dataframe\">\n",
       "  <thead>\n",
       "    <tr style=\"text-align: right;\">\n",
       "      <th></th>\n",
       "      <th>ID</th>\n",
       "      <th>overall</th>\n",
       "    </tr>\n",
       "  </thead>\n",
       "  <tbody>\n",
       "    <tr>\n",
       "      <th>0</th>\n",
       "      <td>25355</td>\n",
       "      <td>4.0</td>\n",
       "    </tr>\n",
       "    <tr>\n",
       "      <th>1</th>\n",
       "      <td>66963</td>\n",
       "      <td>3.0</td>\n",
       "    </tr>\n",
       "    <tr>\n",
       "      <th>2</th>\n",
       "      <td>50981</td>\n",
       "      <td>3.0</td>\n",
       "    </tr>\n",
       "    <tr>\n",
       "      <th>3</th>\n",
       "      <td>65337</td>\n",
       "      <td>4.0</td>\n",
       "    </tr>\n",
       "    <tr>\n",
       "      <th>4</th>\n",
       "      <td>38342</td>\n",
       "      <td>5.0</td>\n",
       "    </tr>\n",
       "    <tr>\n",
       "      <th>...</th>\n",
       "      <td>...</td>\n",
       "      <td>...</td>\n",
       "    </tr>\n",
       "    <tr>\n",
       "      <th>24263</th>\n",
       "      <td>24890</td>\n",
       "      <td>4.0</td>\n",
       "    </tr>\n",
       "    <tr>\n",
       "      <th>24264</th>\n",
       "      <td>8495</td>\n",
       "      <td>3.0</td>\n",
       "    </tr>\n",
       "    <tr>\n",
       "      <th>24265</th>\n",
       "      <td>11384</td>\n",
       "      <td>3.0</td>\n",
       "    </tr>\n",
       "    <tr>\n",
       "      <th>24266</th>\n",
       "      <td>5659</td>\n",
       "      <td>4.0</td>\n",
       "    </tr>\n",
       "    <tr>\n",
       "      <th>24267</th>\n",
       "      <td>17003</td>\n",
       "      <td>5.0</td>\n",
       "    </tr>\n",
       "  </tbody>\n",
       "</table>\n",
       "<p>24232 rows × 2 columns</p>\n",
       "</div>"
      ],
      "text/plain": [
       "          ID  overall\n",
       "0      25355      4.0\n",
       "1      66963      3.0\n",
       "2      50981      3.0\n",
       "3      65337      4.0\n",
       "4      38342      5.0\n",
       "...      ...      ...\n",
       "24263  24890      4.0\n",
       "24264   8495      3.0\n",
       "24265  11384      3.0\n",
       "24266   5659      4.0\n",
       "24267  17003      5.0\n",
       "\n",
       "[24232 rows x 2 columns]"
      ]
     },
     "execution_count": 106,
     "metadata": {},
     "output_type": "execute_result"
    }
   ],
   "source": [
    "final_prediction_df1=pd.concat([testid,final_prediction_df],axis=1)\n",
    "final_prediction_df1"
   ]
  },
  {
   "cell_type": "code",
   "execution_count": 107,
   "id": "449c0068",
   "metadata": {},
   "outputs": [],
   "source": [
    "final_prediction_df1.to_csv(\"Final overall Prediction1.csv\", index=False)"
   ]
  },
  {
   "cell_type": "code",
   "execution_count": 108,
   "id": "8331c296",
   "metadata": {},
   "outputs": [
    {
     "name": "stdout",
     "output_type": "stream",
     "text": [
      "<class 'pandas.core.frame.DataFrame'>\n",
      "Int64Index: 24232 entries, 0 to 24267\n",
      "Data columns (total 2 columns):\n",
      " #   Column   Non-Null Count  Dtype  \n",
      "---  ------   --------------  -----  \n",
      " 0   ID       24232 non-null  int64  \n",
      " 1   overall  24232 non-null  float64\n",
      "dtypes: float64(1), int64(1)\n",
      "memory usage: 1.1 MB\n"
     ]
    }
   ],
   "source": [
    "final_prediction_df1.info()\n"
   ]
  },
  {
   "cell_type": "code",
   "execution_count": 114,
   "id": "e9984b1c",
   "metadata": {},
   "outputs": [],
   "source": [
    "final_prediction_df1['overall']=final_prediction_df1['overall'].astype(int)"
   ]
  },
  {
   "cell_type": "code",
   "execution_count": 116,
   "id": "a59681b2",
   "metadata": {},
   "outputs": [],
   "source": [
    "final_prediction_df1.to_csv(\"Final overall Prediction2.csv\", index=False)"
   ]
  },
  {
   "cell_type": "code",
   "execution_count": null,
   "id": "077b3525",
   "metadata": {},
   "outputs": [],
   "source": []
  }
 ],
 "metadata": {
  "kernelspec": {
   "display_name": "Python 3 (ipykernel)",
   "language": "python",
   "name": "python3"
  },
  "language_info": {
   "codemirror_mode": {
    "name": "ipython",
    "version": 3
   },
   "file_extension": ".py",
   "mimetype": "text/x-python",
   "name": "python",
   "nbconvert_exporter": "python",
   "pygments_lexer": "ipython3",
   "version": "3.9.12"
  }
 },
 "nbformat": 4,
 "nbformat_minor": 5
}
